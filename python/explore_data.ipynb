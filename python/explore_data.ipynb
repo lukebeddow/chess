{
 "cells": [
  {
   "cell_type": "code",
   "execution_count": 1,
   "metadata": {},
   "outputs": [],
   "source": [
    "import modules.board_module as bf\n",
    "import modules.tree_module as tf\n",
    "import modules.stockfish_module as sf\n",
    "from ModelSaver import ModelSaver\n",
    "import random\n",
    "from dataclasses import dataclass\n",
    "from collections import namedtuple\n",
    "import itertools\n",
    "import time\n",
    "import argparse\n",
    "import numpy as np\n",
    "import torch\n",
    "import torch.nn as nn\n",
    "from math import floor, ceil\n",
    "\n",
    "from train_nn_evaluator import EvalDataset"
   ]
  },
  {
   "cell_type": "code",
   "execution_count": 2,
   "metadata": {},
   "outputs": [],
   "source": [
    "# load in the entire dataset\n",
    "num_rand = 4096\n",
    "datapath = \"/home/luke/chess/python/gamedata/samples\"\n",
    "eval_file_template = \"random_n={0}_sample\"\n",
    "inds = None# list(range(10))\n",
    "dataset = EvalDataset(datapath, eval_file_template.format(num_rand),\n",
    "                      indexes=inds, log_level=0)"
   ]
  },
  {
   "cell_type": "code",
   "execution_count": 22,
   "metadata": {},
   "outputs": [
    {
     "name": "stdout",
     "output_type": "stream",
     "text": [
      "Total number of positions = 245760\n",
      "Proportion of duplicates = 14.6 %\n",
      "Proportion of mate positions = 0.2 %\n"
     ]
    }
   ],
   "source": [
    "print(f\"Total number of positions = {len(dataset)}\")\n",
    "num_duplicates = dataset.check_duplicates()\n",
    "num_mates = dataset.check_mate_positions()\n",
    "print(f\"Proportion of duplicates = {(num_duplicates / len(dataset))*100:.1f} %\")\n",
    "print(f\"Proportion of mate positions = {(num_mates / len(dataset))*100:.1f} %\")\n",
    "\n",
    "# prepare the dataset\n",
    "num_duplicates = dataset.check_duplicates(remove=True)\n",
    "num_mates = dataset.check_mate_positions(remove=True)\n",
    "dataset.board_dtype = torch.float\n",
    "dataset.to_torch()"
   ]
  },
  {
   "cell_type": "code",
   "execution_count": 4,
   "metadata": {},
   "outputs": [],
   "source": [
    "class BoardCNN(nn.Module):\n",
    "\n",
    "  name = \"BoardCNN\"\n",
    "\n",
    "  def __init__(self):\n",
    "\n",
    "    super(BoardCNN, self).__init__()\n",
    "\n",
    "    self.board_cnn = nn.Sequential(\n",
    "\n",
    "      # Layer 1\n",
    "      nn.Conv2d(in_channels=19, out_channels=32, kernel_size=3, padding=1),  # Conv layer\n",
    "      nn.ReLU(),                                                             # Activation\n",
    "      nn.MaxPool2d(kernel_size=2),                                           # Pooling (output size: 32 x 4 x 4)\n",
    "\n",
    "      # Layer 2\n",
    "      nn.Conv2d(in_channels=32, out_channels=64, kernel_size=3, padding=1),\n",
    "      nn.ReLU(),\n",
    "      nn.MaxPool2d(kernel_size=2),                                           # Pooling (output size: 64 x 2 x 2)\n",
    "\n",
    "      # Layer 3\n",
    "      nn.Conv2d(in_channels=64, out_channels=128, kernel_size=3, padding=1),\n",
    "      nn.ReLU(),\n",
    "      nn.MaxPool2d(kernel_size=2),                                           # Pooling (output size: 128 x 1 x 1)\n",
    "\n",
    "      # Flatten layer to transition to fully connected\n",
    "      nn.Flatten(),\n",
    "\n",
    "      # two fully connected layers to produce a single output\n",
    "      nn.Linear(128, 64),\n",
    "      nn.ReLU(),\n",
    "      nn.Linear(64, 1),\n",
    "  )\n",
    "\n",
    "  def forward(self, board):\n",
    "    board = board.to(self.device)\n",
    "    x = self.board_cnn(board)\n",
    "    return x"
   ]
  },
  {
   "cell_type": "code",
   "execution_count": 35,
   "metadata": {},
   "outputs": [],
   "source": [
    "def train(net, data_x, data_y, epochs=1, lr=5e-5, device=\"cuda\"):\n",
    "  \"\"\"\n",
    "  Perform a training epoch for a given network based on data inputs\n",
    "  data_x, and correct outputs data_y\n",
    "  \"\"\"\n",
    "\n",
    "  # move onto the specified device\n",
    "  net.board_cnn.to(device)\n",
    "  data_x = data_x.to(device)\n",
    "  data_y = data_y.to(device)\n",
    "\n",
    "  # put the model in training mode\n",
    "  net.board_cnn.train()\n",
    "\n",
    "  lossfcn = nn.MSELoss()\n",
    "  optim = torch.optim.Adam(net.board_cnn.parameters(), lr=lr)\n",
    "\n",
    "  batch_size = 64\n",
    "  num_batches = len(data_x) // batch_size\n",
    "\n",
    "  for i in range(epochs):\n",
    "\n",
    "    print(f\"Starting epoch {i + 1}. There will be {num_batches} batches\")\n",
    "\n",
    "    rand_idx = torch.randperm(data_x.shape[0])\n",
    "    avg_loss = 0\n",
    "\n",
    "    for n in range(num_batches):\n",
    "\n",
    "      batch_x = data_x[rand_idx[n * batch_size : (n+1) * batch_size]]\n",
    "      batch_y = data_y[rand_idx[n * batch_size : (n+1) * batch_size]]\n",
    "\n",
    "      # use the model for a prediction and calculate loss\n",
    "      net_y = net.board_cnn(batch_x)\n",
    "      loss = lossfcn(net_y, batch_y)\n",
    "\n",
    "      # backpropagate\n",
    "      loss.backward()\n",
    "      optim.step()\n",
    "      optim.zero_grad()\n",
    "\n",
    "      avg_loss += loss.item()\n",
    "\n",
    "      # if n % 500 == 0:\n",
    "      #   print(f\"Loss is {(avg_loss / (n + 1)) * 1000:.3f}, epoch {i + 1}, batch {n + 1} / {num_batches}\")\n",
    "    \n",
    "    print(f\"Loss is {(avg_loss / (num_batches)) * 1000:.3f}, at end of epoch {i + 1}\")\n",
    "\n",
    "  return net"
   ]
  },
  {
   "cell_type": "code",
   "execution_count": 38,
   "metadata": {},
   "outputs": [
    {
     "name": "stdout",
     "output_type": "stream",
     "text": [
      "Starting epoch 1. There will be 3272 batches\n",
      "Loss is 20.681, at end of epoch 1\n",
      "Starting epoch 2. There will be 3272 batches\n",
      "Loss is 18.147, at end of epoch 2\n",
      "Starting epoch 3. There will be 3272 batches\n",
      "Loss is 15.684, at end of epoch 3\n",
      "Starting epoch 4. There will be 3272 batches\n",
      "Loss is 13.315, at end of epoch 4\n",
      "Starting epoch 5. There will be 3272 batches\n",
      "Loss is 11.077, at end of epoch 5\n",
      "Starting epoch 6. There will be 3272 batches\n",
      "Loss is 9.085, at end of epoch 6\n",
      "Starting epoch 7. There will be 3272 batches\n",
      "Loss is 7.371, at end of epoch 7\n",
      "Starting epoch 8. There will be 3272 batches\n",
      "Loss is 6.059, at end of epoch 8\n",
      "Starting epoch 9. There will be 3272 batches\n",
      "Loss is 5.177, at end of epoch 9\n",
      "Starting epoch 10. There will be 3272 batches\n",
      "Loss is 4.653, at end of epoch 10\n",
      "Saving file /home/luke/chess/python/models/eval_model_003.lz4 with pickle ... finished\n"
     ]
    },
    {
     "data": {
      "text/plain": [
       "'/home/luke/chess/python/models/eval_model_003.lz4'"
      ]
     },
     "execution_count": 38,
     "metadata": {},
     "output_type": "execute_result"
    }
   ],
   "source": [
    "net = BoardCNN()\n",
    "device = \"cuda\"\n",
    "epochs = 10\n",
    "lr = 1e-7\n",
    "\n",
    "# # normalise the evaluations\n",
    "# print(torch.min(dataset.evals))\n",
    "# print(torch.max(dataset.evals))\n",
    "# dataset.evals /= torch.max(dataset.evals)\n",
    "# print(torch.min(dataset.evals))\n",
    "# print(torch.max(dataset.evals))\n",
    "\n",
    "trained_net = train(net, dataset.boards, dataset.evals, device=device, epochs=epochs, lr=lr)\n",
    "\n",
    "modelsaver = ModelSaver(\"/home/luke/chess/python/models/\")\n",
    "\n",
    "modelsaver.save(\"eval_model\", trained_net)"
   ]
  },
  {
   "cell_type": "code",
   "execution_count": 46,
   "metadata": {},
   "outputs": [
    {
     "name": "stdout",
     "output_type": "stream",
     "text": [
      "sf_eval = 0.000, net_eval = 0.006, difference is -0.006\n",
      "sf_eval = -0.692, net_eval = -0.006, difference is -0.686\n",
      "sf_eval = -0.605, net_eval = -0.032, difference is -0.573\n",
      "sf_eval = 0.003, net_eval = -0.034, difference is 0.037\n",
      "sf_eval = -0.778, net_eval = 0.001, difference is -0.779\n",
      "sf_eval = 0.358, net_eval = -0.033, difference is 0.391\n",
      "sf_eval = 0.010, net_eval = -0.037, difference is 0.047\n",
      "sf_eval = -0.404, net_eval = 0.036, difference is -0.440\n",
      "sf_eval = 0.022, net_eval = -0.042, difference is 0.064\n",
      "sf_eval = -0.488, net_eval = 0.015, difference is -0.503\n"
     ]
    }
   ],
   "source": [
    "for i in range(10):\n",
    "  sf_eval = dataset.positions[i].eval\n",
    "  net_eval = trained_net.board_cnn(dataset.boards[i].to(device).unsqueeze(dim=0))\n",
    "  net_eval = net_eval.to(\"cpu\").item()\n",
    "\n",
    "  print(f\"sf_eval = {sf_eval * 1e-3:.3f}, net_eval = {net_eval:.3f}, difference is {sf_eval*1e-3 - net_eval:.3f}\")"
   ]
  }
 ],
 "metadata": {
  "kernelspec": {
   "display_name": "py38_general",
   "language": "python",
   "name": "python3"
  },
  "language_info": {
   "codemirror_mode": {
    "name": "ipython",
    "version": 3
   },
   "file_extension": ".py",
   "mimetype": "text/x-python",
   "name": "python",
   "nbconvert_exporter": "python",
   "pygments_lexer": "ipython3",
   "version": "3.8.10"
  }
 },
 "nbformat": 4,
 "nbformat_minor": 2
}
