{
 "cells": [
  {
   "cell_type": "code",
   "execution_count": 1,
   "metadata": {},
   "outputs": [],
   "source": [
    "import modules.board_module as bf\n",
    "import modules.tree_module as tf\n",
    "import modules.stockfish_module as sf\n",
    "from ModelSaver import ModelSaver\n",
    "import random\n",
    "from dataclasses import dataclass\n",
    "from collections import namedtuple\n",
    "import itertools\n",
    "import time\n",
    "import argparse\n",
    "import numpy as np\n",
    "import torch\n",
    "import torch.nn as nn\n",
    "from math import floor, ceil\n",
    "\n",
    "from train_nn_evaluator import EvalDataset"
   ]
  },
  {
   "cell_type": "code",
   "execution_count": 2,
   "metadata": {},
   "outputs": [],
   "source": [
    "# load in the entire dataset\n",
    "num_rand = 4096\n",
    "datapath = \"/home/luke/chess/python/gamedata/samples\"\n",
    "eval_file_template = \"random_n={0}_sample\"\n",
    "inds = None# list(range(10))\n",
    "dataset = EvalDataset(datapath, eval_file_template.format(num_rand),\n",
    "                      indexes=inds, log_level=0)"
   ]
  },
  {
   "cell_type": "code",
   "execution_count": 3,
   "metadata": {},
   "outputs": [
    {
     "name": "stdout",
     "output_type": "stream",
     "text": [
      "Total number of positions = 241664\n",
      "Proportion of duplicates = 14.6 %\n",
      "Proportion of mate positions = 0.2 %\n"
     ]
    }
   ],
   "source": [
    "print(f\"Total number of positions = {len(dataset)}\")\n",
    "num_duplicates = dataset.check_duplicates()\n",
    "num_mates = dataset.check_mate_positions()\n",
    "print(f\"Proportion of duplicates = {(num_duplicates / len(dataset))*100:.1f} %\")\n",
    "print(f\"Proportion of mate positions = {(num_mates / len(dataset))*100:.1f} %\")\n",
    "\n",
    "# prepare the dataset\n",
    "# num_duplicates = dataset.check_duplicates(remove=True)\n",
    "# num_mates = dataset.check_mate_positions(remove=True)\n",
    "dataset.board_dtype = torch.float\n",
    "dataset.to_torch()"
   ]
  },
  {
   "cell_type": "code",
   "execution_count": 4,
   "metadata": {},
   "outputs": [],
   "source": [
    "class BoardCNN(nn.Module):\n",
    "\n",
    "  name = \"BoardCNN\"\n",
    "\n",
    "  def __init__(self):\n",
    "\n",
    "    super(BoardCNN, self).__init__()\n",
    "\n",
    "    self.board_cnn = nn.Sequential(\n",
    "\n",
    "      # Layer 1\n",
    "      nn.Conv2d(in_channels=19, out_channels=32, kernel_size=3, padding=1),  # Conv layer\n",
    "      nn.ReLU(),                                                             # Activation\n",
    "      nn.MaxPool2d(kernel_size=2),                                           # Pooling (output size: 32 x 4 x 4)\n",
    "\n",
    "      # Layer 2\n",
    "      nn.Conv2d(in_channels=32, out_channels=64, kernel_size=3, padding=1),\n",
    "      nn.ReLU(),\n",
    "      nn.MaxPool2d(kernel_size=2),                                           # Pooling (output size: 64 x 2 x 2)\n",
    "\n",
    "      # Layer 3\n",
    "      nn.Conv2d(in_channels=64, out_channels=128, kernel_size=3, padding=1),\n",
    "      nn.ReLU(),\n",
    "      nn.MaxPool2d(kernel_size=2),                                           # Pooling (output size: 128 x 1 x 1)\n",
    "\n",
    "      # Flatten layer to transition to fully connected\n",
    "      nn.Flatten(),\n",
    "\n",
    "      # two fully connected layers to produce a single output\n",
    "      nn.Linear(128, 64),\n",
    "      nn.ReLU(),\n",
    "      nn.Linear(64, 1),\n",
    "  )\n",
    "\n",
    "  def forward(self, board):\n",
    "    board = board.to(self.device)\n",
    "    x = self.board_cnn(board)\n",
    "    return x"
   ]
  },
  {
   "cell_type": "code",
   "execution_count": 9,
   "metadata": {},
   "outputs": [],
   "source": [
    "def train(net, data_x, data_y, epochs=1, lr=5e-5, device=\"cuda\"):\n",
    "  \"\"\"\n",
    "  Perform a training epoch for a given network based on data inputs\n",
    "  data_x, and correct outputs data_y\n",
    "  \"\"\"\n",
    "\n",
    "  # move onto the specified device\n",
    "  net.board_cnn.to(device)\n",
    "  data_x.to(device)\n",
    "  data_y.to(device)\n",
    "\n",
    "  # put the model in training mode\n",
    "  net.board_cnn.train()\n",
    "\n",
    "  lossfcn = nn.MSELoss()\n",
    "  optim = torch.optim.Adam(net.board_cnn.parameters(), lr=lr)\n",
    "\n",
    "  rand_idx = torch.randperm(data_x.shape[0])\n",
    "  batch_size = 64\n",
    "  num_batches = len(data_x) // batch_size\n",
    "\n",
    "  for i in range(epochs):\n",
    "\n",
    "    print(f\"Starting epoch {i + 1}. There will be {num_batches} batches\")\n",
    "\n",
    "    for n in range(num_batches):\n",
    "\n",
    "      batch_x = data_x[rand_idx[n * batch_size : (n+1) * batch_size]]\n",
    "      batch_y = data_y[rand_idx[n * batch_size : (n+1) * batch_size]]\n",
    "\n",
    "      # use the model for a prediction and calculate loss\n",
    "      net_y = net.board_cnn(batch_x)\n",
    "      loss = lossfcn(net_y, data_y)\n",
    "\n",
    "      # backpropagate\n",
    "      loss.backward()\n",
    "      optim.step()\n",
    "      optim.zero_grad()\n",
    "\n",
    "      if n % 1000 == 0:\n",
    "        print(f\"Loss is {loss.item():.3f}, epoch {i + 1}, batch {n + 1} / {num_batches}\")\n",
    "\n",
    "  return net"
   ]
  },
  {
   "cell_type": "code",
   "execution_count": null,
   "metadata": {},
   "outputs": [
    {
     "name": "stdout",
     "output_type": "stream",
     "text": [
      "Starting epoch 1. There will be 3776 batches\n",
      "Loss is 5.150, epoch 1, batch 0 / 3776\n"
     ]
    },
    {
     "name": "stderr",
     "output_type": "stream",
     "text": [
      "/home/luke/pyenv/py38_general/lib/python3.8/site-packages/torch/nn/modules/loss.py:538: UserWarning: Using a target size (torch.Size([241664])) that is different to the input size (torch.Size([64, 1])). This will likely lead to incorrect results due to broadcasting. Please ensure they have the same size.\n",
      "  return F.mse_loss(input, target, reduction=self.reduction)\n"
     ]
    },
    {
     "name": "stdout",
     "output_type": "stream",
     "text": [
      "Loss is 5.112, epoch 1, batch 1000 / 3776\n"
     ]
    }
   ],
   "source": [
    "net = BoardCNN()\n",
    "device = \"cpu\"\n",
    "\n",
    "trained_net = train(net, dataset.boards, dataset.evals, device=device)\n",
    "\n",
    "modelsaver = ModelSaver(\"/home/luke/chess/python/models/\")\n",
    "\n",
    "modelsaver.save(\"eval_model\", trained_net)"
   ]
  }
 ],
 "metadata": {
  "kernelspec": {
   "display_name": "py38_general",
   "language": "python",
   "name": "python3"
  },
  "language_info": {
   "codemirror_mode": {
    "name": "ipython",
    "version": 3
   },
   "file_extension": ".py",
   "mimetype": "text/x-python",
   "name": "python",
   "nbconvert_exporter": "python",
   "pygments_lexer": "ipython3",
   "version": "3.8.10"
  }
 },
 "nbformat": 4,
 "nbformat_minor": 2
}
